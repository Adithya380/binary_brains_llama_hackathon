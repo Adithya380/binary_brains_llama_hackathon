{
 "cells": [
  {
   "cell_type": "code",
   "execution_count": 9,
   "metadata": {},
   "outputs": [],
   "source": [
    "import requests"
   ]
  },
  {
   "cell_type": "code",
   "execution_count": 1,
   "metadata": {},
   "outputs": [
    {
     "name": "stdout",
     "output_type": "stream",
     "text": [
      "{\"translated_text\":\"नमस्ते, आप कैसे हैं?\"}\n"
     ]
    }
   ],
   "source": [
    "# Text translation implementation\n",
    "\n",
    "url = \"https://api.sarvam.ai/translate\"\n",
    "\n",
    "payload = {\n",
    "    \"input\": \"Hello, how are you?\",\n",
    "    \"source_language_code\": \"en-IN\",\n",
    "    \"target_language_code\": \"hi-IN\",\n",
    "    \"speaker_gender\": \"Male\",\n",
    "    \"mode\": \"formal\",\n",
    "    \"model\": \"mayura:v1\",\n",
    "    \"enable_preprocessing\": True\n",
    "}\n",
    "headers = {\"Content-Type\": \"application/json\", 'API-Subscription-Key': '5e77cf1b-b61b-4e69-aa07-196835ea3b08'}\n",
    "\n",
    "response = requests.request(\"POST\", url, json=payload, headers=headers)\n",
    "\n",
    "print(response.text)"
   ]
  },
  {
   "cell_type": "code",
   "execution_count": 12,
   "metadata": {},
   "outputs": [
    {
     "name": "stdout",
     "output_type": "stream",
     "text": [
      "{\"transcript\":\"కాన్ హస్ట్ టు సర్వైవ్ ఎ నంబర్ ఆఫ్ డిసీజ్ రెడ్స్ త్రో అవుట్ ది సీజన్ సచ్ ఆస్ గ్రేవ్ స్పాట్  నార్తన్ కార్న్ లీఫ్  ఫ్లైట్  టార్ స్పాట్ అండ్ కామన్ అండ్  సదన్ రెస్ట్\"}\n"
     ]
    }
   ],
   "source": [
    "# Speech to text implementation\n",
    "# Input should be 'hi-IN', 'bn-IN', 'kn-IN', 'ml-IN', 'mr-IN', 'od-IN', 'pa-IN', 'ta-IN', 'te-IN' or 'gu-IN'\n",
    "\n",
    "url = \"https://api.sarvam.ai/speech-to-text\"\n",
    "\n",
    "payload = {'model': 'saarika:v1',\n",
    "'language_code': 'te-IN',\n",
    "'with_timesteps': 'false'}\n",
    "files=[\n",
    "  ('file',('Recording (2).m4a',open('Recording (2).m4a','rb'),'audio/wav'))\n",
    "]\n",
    "headers = {\n",
    "  'api-subscription-key': '5e77cf1b-b61b-4e69-aa07-196835ea3b08'\n",
    "}\n",
    "\n",
    "response = requests.request(\"POST\", url, headers=headers, data=payload, files=files)\n",
    "\n",
    "print(response.text)"
   ]
  },
  {
   "cell_type": "code",
   "execution_count": 28,
   "metadata": {},
   "outputs": [
    {
     "name": "stdout",
     "output_type": "stream",
     "text": [
      "{\"audios\":[\"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\"]}\n"
     ]
    }
   ],
   "source": [
    "# Text to speech\n",
    "\n",
    "url = \"https://api.sarvam.ai/text-to-speech\"\n",
    "\n",
    "payload = {\n",
    "    \"inputs\": [\"Hello how are you\"],\n",
    "    \"target_language_code\": \"hi-IN\",\n",
    "    \"speaker\": \"meera\",\n",
    "    \"pitch\": 0,\n",
    "    \n",
    "    \"pace\": 1.65,\n",
    "    \"loudness\": 1.5,\n",
    "    \"speech_sample_rate\": 8000,\n",
    "    \n",
    "    \"enable_preprocessing\": True,\n",
    "    \"model\": \"bulbul:v1\"\n",
    "}\n",
    "headers = {\"Content-Type\": \"application/json\", 'API-Subscription-Key': '5e77cf1b-b61b-4e69-aa07-196835ea3b08'}\n",
    "\n",
    "response = requests.request(\"POST\", url, json=payload, headers=headers)\n",
    "\n",
    "print(response.text)"
   ]
  },
  {
   "cell_type": "code",
   "execution_count": 32,
   "metadata": {},
   "outputs": [
    {
     "name": "stdout",
     "output_type": "stream",
     "text": [
      "Audio file saved as output.wav\n"
     ]
    }
   ],
   "source": [
    "import base64\n",
    "import wave\n",
    "\n",
    "def base64_to_audio(base64_string, filename=\"output.wav\"):\n",
    "    \"\"\"\n",
    "    Converts a base64 encoded audio string to a WAV file.\n",
    "\n",
    "    Args:\n",
    "    \n",
    "        base64_string: The base64 encoded audio string.\n",
    "        filename: The desired filename for the output WAV file.\n",
    "    \"\"\"\n",
    "\n",
    "    # Decode the base64 string\n",
    "    audio_data = base64.b64decode(base64_string)\n",
    "\n",
    "    # Write the audio data to a WAV file\n",
    "    with wave.open(filename, 'wb') as wf:\n",
    "        wf.setnchannels(1)  # Assuming mono audio\n",
    "        wf.setsampwidth(2)  # Assuming 16-bit samples\n",
    "        wf.setframerate(44100)  # Assuming 44.1 kHz sample rate\n",
    "        wf.writeframes(audio_data)\n",
    "\n",
    "    print(f\"Audio file saved as {filename}\")\n",
    "\n",
    "# Example usage:\n",
    "\n",
    "base64_audio_string = response.json()\n",
    "# print(base64_audio_string[\"audios\"])\n",
    "base64_to_audio(base64_audio_string[\"audios\"][0])"
   ]
  }
 ],
 "metadata": {
  "kernelspec": {
   "display_name": "Python 3",
   "language": "python",
   "name": "python3"
  },
  "language_info": {
   "codemirror_mode": {
    "name": "ipython",
    "version": 3
   },
   "file_extension": ".py",
   "mimetype": "text/x-python",
   "name": "python",
   "nbconvert_exporter": "python",
   "pygments_lexer": "ipython3",
   "version": "3.11.9"
  }
 },
 "nbformat": 4,
 "nbformat_minor": 2
}
